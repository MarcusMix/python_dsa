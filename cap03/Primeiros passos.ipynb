{
 "cells": [
  {
   "cell_type": "code",
   "execution_count": 1,
   "id": "609acfbc",
   "metadata": {},
   "outputs": [
    {
     "name": "stdout",
     "output_type": "stream",
     "text": [
      "[1, 2, 3, 4, 5, 6, 7, 8, 9, 10, 11, 12, 13, 14, 15, 16, 17, 18, 19, 20, 21, 22, 23, 24, 25, 26, 27, 28, 29, 30, 31, 32, 33, 34, 35, 36, 37, 38, 39, 40, 41, 42, 43, 44, 45, 46, 47, 48, 49, 50, 51, 52, 53, 54, 55, 56, 57, 58, 59, 60, 61, 62, 63, 64, 65, 66, 67, 68, 69, 70, 71, 72, 73, 74, 75, 76, 77, 78, 79, 80, 81, 82, 83, 84, 85, 86, 87, 88, 89, 90, 91, 92, 93, 94, 95, 96, 97, 98, 99, 100]\n",
      "4\n",
      "8\n",
      "12\n",
      "16\n",
      "20\n",
      "24\n",
      "28\n",
      "32\n",
      "36\n",
      "40\n",
      "44\n",
      "48\n",
      "52\n",
      "56\n",
      "60\n",
      "64\n",
      "68\n",
      "72\n",
      "76\n",
      "80\n",
      "84\n",
      "88\n",
      "92\n",
      "96\n",
      "100\n"
     ]
    }
   ],
   "source": [
    "numeros = list(range(1, 101))\n",
    "print(numeros)\n",
    "\n",
    "for numero in numeros:\n",
    "    if numero % 2 == 0 and numero % 4 == 0:\n",
    "        print(numero)"
   ]
  },
  {
   "cell_type": "code",
   "execution_count": 3,
   "id": "cade852a",
   "metadata": {},
   "outputs": [
    {
     "name": "stdout",
     "output_type": "stream",
     "text": [
      "Bem vindo ao Calculador de Área de Paralelograma\n",
      "Insira o comprimento da base: 6\n",
      "Insira a altura: 5\n",
      "A área do paralelograma é:  30.0\n"
     ]
    }
   ],
   "source": [
    "print(\"Bem vindo ao Calculador de Área de Paralelograma\")\n",
    "\n",
    "base = float(input(\"Insira o comprimento da base: \"))\n",
    "\n",
    "altura = float(input(\"Insira a altura: \"))\n",
    "\n",
    "area = base * altura\n",
    "\n",
    "print(\"A área do paralelograma é: \", area)"
   ]
  },
  {
   "cell_type": "code",
   "execution_count": 4,
   "id": "791cdb71",
   "metadata": {},
   "outputs": [
    {
     "name": "stdout",
     "output_type": "stream",
     "text": [
      "[1, 2, 6, 7, 9, 99, 109]\n"
     ]
    }
   ],
   "source": [
    "array = [9, 2, 7, 99, 109, 1, 6]\n",
    "def bubble_sort(array):\n",
    "    \n",
    "    n = len(array)\n",
    "    \n",
    "    for i in range(n):\n",
    "        \n",
    "        for j in range(0, n-i-1):\n",
    "            \n",
    "            if array[j] > array[j+1]:\n",
    "                \n",
    "                array[j], array[j+1] = array[j+1], array[j]\n",
    "    return array\n",
    "\n",
    "\n",
    "print(bubble_sort(array))"
   ]
  },
  {
   "cell_type": "code",
   "execution_count": null,
   "id": "8c9901ee",
   "metadata": {},
   "outputs": [],
   "source": []
  }
 ],
 "metadata": {
  "kernelspec": {
   "display_name": "Python 3 (ipykernel)",
   "language": "python",
   "name": "python3"
  },
  "language_info": {
   "codemirror_mode": {
    "name": "ipython",
    "version": 3
   },
   "file_extension": ".py",
   "mimetype": "text/x-python",
   "name": "python",
   "nbconvert_exporter": "python",
   "pygments_lexer": "ipython3",
   "version": "3.9.13"
  }
 },
 "nbformat": 4,
 "nbformat_minor": 5
}
